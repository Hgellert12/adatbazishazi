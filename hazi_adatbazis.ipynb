{
    "metadata": {
        "kernelspec": {
            "name": "SQL",
            "display_name": "SQL",
            "language": "sql"
        },
        "language_info": {
            "name": "sql",
            "version": ""
        }
    },
    "nbformat_minor": 2,
    "nbformat": 4,
    "cells": [
        {
            "cell_type": "code",
            "source": [
                "DECLARE\r\n",
                "@átlag INT;\r\n",
                "SELECT\r\n",
                "@átlag = round(AVG(listaar),0)\r\n",
                "FROM termek\r\n",
                "SELECT\r\n",
                "MIN(listaar) AS minimum_ár, \r\n",
                "MAX(listaar) AS Maximum_ár, \r\n",
                "round(AVG(listaar),2) AS Átlagos_ár,\r\n",
                "SUM(CASE WHEN listaar<@átlag THEN 1 else 0 END) AS átlag_alatt,\r\n",
                "SUM(CASE WHEN listaar>@átlag THEN 1 else 0 END) AS átlag_felett,\r\n",
                "SUM(CASE WHEN listaar=@átlag THEN 1 else 0 END) AS átlagos,\r\n",
                "COUNT(*) AS termékek_száma\r\n",
                "FROM termek\r\n",
                ""
            ],
            "metadata": {
                "azdata_cell_guid": "631570ef-992d-4667-89a4-a63facdbed37",
                "language": "sql"
            },
            "outputs": [
                {
                    "output_type": "display_data",
                    "data": {
                        "text/html": "(1 row affected)"
                    },
                    "metadata": {}
                },
                {
                    "output_type": "display_data",
                    "data": {
                        "text/html": "Total execution time: 00:00:00.025"
                    },
                    "metadata": {}
                },
                {
                    "output_type": "execute_result",
                    "metadata": {},
                    "execution_count": 72,
                    "data": {
                        "application/vnd.dataresource+json": {
                            "schema": {
                                "fields": [
                                    {
                                        "name": "minimum_ár"
                                    },
                                    {
                                        "name": "Maximum_ár"
                                    },
                                    {
                                        "name": "Átlagos_ár"
                                    },
                                    {
                                        "name": "átlag_alatt"
                                    },
                                    {
                                        "name": "átlag_felett"
                                    },
                                    {
                                        "name": "átlagos"
                                    },
                                    {
                                        "name": "termékek_száma"
                                    }
                                ]
                            },
                            "data": [
                                {
                                    "minimum_ár": "0",
                                    "Maximum_ár": "46000",
                                    "Átlagos_ár": "786.28",
                                    "átlag_alatt": "505",
                                    "átlag_felett": "46",
                                    "átlagos": "0",
                                    "termékek_száma": "551"
                                }
                            ]
                        },
                        "text/html": [
                            "<table>",
                            "<tr><th>minimum_ár</th><th>Maximum_ár</th><th>Átlagos_ár</th><th>átlag_alatt</th><th>átlag_felett</th><th>átlagos</th><th>termékek_száma</th></tr>",
                            "<tr><td>0</td><td>46000</td><td>786.28</td><td>505</td><td>46</td><td>0</td><td>551</td></tr>",
                            "</table>"
                        ]
                    }
                }
            ],
            "execution_count": 72
        },
        {
            "cell_type": "code",
            "source": [
                "SELECT \r\n",
                "    COUNT(*) AS osszes_sor,\r\n",
                "    SUM(CASE WHEN leiras IS NULL THEN 1 ELSE 0 END) AS null_leírás_darab,\r\n",
                "    ROUND(100.0 * SUM(CASE WHEN leiras IS NULL THEN 1 ELSE 0 END) / COUNT(*), 0) AS null_leírás_százalék\r\n",
                "FROM Termek;"
            ],
            "metadata": {
                "azdata_cell_guid": "b5658134-5457-4534-87d7-fc5807d58660",
                "language": "sql",
                "tags": []
            },
            "outputs": [
                {
                    "output_type": "display_data",
                    "data": {
                        "text/html": "(1 row affected)"
                    },
                    "metadata": {}
                },
                {
                    "output_type": "display_data",
                    "data": {
                        "text/html": "Total execution time: 00:00:00.018"
                    },
                    "metadata": {}
                },
                {
                    "output_type": "execute_result",
                    "metadata": {},
                    "execution_count": 73,
                    "data": {
                        "application/vnd.dataresource+json": {
                            "schema": {
                                "fields": [
                                    {
                                        "name": "osszes_sor"
                                    },
                                    {
                                        "name": "null_leírás_darab"
                                    },
                                    {
                                        "name": "null_leírás_százalék"
                                    }
                                ]
                            },
                            "data": [
                                {
                                    "osszes_sor": "551",
                                    "null_leírás_darab": "527",
                                    "null_leírás_százalék": "96.000000000000"
                                }
                            ]
                        },
                        "text/html": [
                            "<table>",
                            "<tr><th>osszes_sor</th><th>null_leírás_darab</th><th>null_leírás_százalék</th></tr>",
                            "<tr><td>551</td><td>527</td><td>96.000000000000</td></tr>",
                            "</table>"
                        ]
                    }
                }
            ],
            "execution_count": 73
        },
        {
            "cell_type": "code",
            "source": [
                "SELECT \r\n",
                "    MAX(KESZLET) AS legnagyobb_készlet,\r\n",
                "    MIN(KESZLET) AS legkisebb_készlet,\r\n",
                "    AVG(KESZLET) AS készletek_átlaga\r\n",
                "    \r\n",
                "FROM Termek\r\n",
                "select distinct PERCENTILE_CONT(0.5) WITHIN GROUP (ORDER BY KESZLET) OVER () AS medián_készlet\r\n",
                "FROM Termek"
            ],
            "metadata": {
                "azdata_cell_guid": "669bd66a-d7a1-4dbe-8091-46c36f9e6d2f",
                "language": "sql",
                "tags": []
            },
            "outputs": [
                {
                    "output_type": "display_data",
                    "data": {
                        "text/html": "(1 row affected)"
                    },
                    "metadata": {}
                },
                {
                    "output_type": "display_data",
                    "data": {
                        "text/html": "(1 row affected)"
                    },
                    "metadata": {}
                },
                {
                    "output_type": "display_data",
                    "data": {
                        "text/html": "Total execution time: 00:00:00.029"
                    },
                    "metadata": {}
                },
                {
                    "output_type": "execute_result",
                    "metadata": {},
                    "execution_count": 85,
                    "data": {
                        "application/vnd.dataresource+json": {
                            "schema": {
                                "fields": [
                                    {
                                        "name": "legnagyobb_készlet"
                                    },
                                    {
                                        "name": "legkisebb_készlet"
                                    },
                                    {
                                        "name": "készletek_átlaga"
                                    }
                                ]
                            },
                            "data": [
                                {
                                    "legnagyobb_készlet": "50000",
                                    "legkisebb_készlet": "0",
                                    "készletek_átlaga": "1585.9909255898367"
                                }
                            ]
                        },
                        "text/html": [
                            "<table>",
                            "<tr><th>legnagyobb_készlet</th><th>legkisebb_készlet</th><th>készletek_átlaga</th></tr>",
                            "<tr><td>50000</td><td>0</td><td>1585.9909255898367</td></tr>",
                            "</table>"
                        ]
                    }
                },
                {
                    "output_type": "execute_result",
                    "metadata": {},
                    "execution_count": 85,
                    "data": {
                        "application/vnd.dataresource+json": {
                            "schema": {
                                "fields": [
                                    {
                                        "name": "medián_készlet"
                                    }
                                ]
                            },
                            "data": [
                                {
                                    "medián_készlet": "400"
                                }
                            ]
                        },
                        "text/html": [
                            "<table>",
                            "<tr><th>medián_készlet</th></tr>",
                            "<tr><td>400</td></tr>",
                            "</table>"
                        ]
                    }
                }
            ],
            "execution_count": 85
        }
    ]
}